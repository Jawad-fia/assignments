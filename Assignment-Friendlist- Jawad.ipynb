{
 "cells": [
  {
   "cell_type": "code",
   "execution_count": 78,
   "metadata": {},
   "outputs": [],
   "source": [
    "flist = ['Asif','Raheel','Farooq', 'Nadim','Zohaib','Fazal','Asad','Asim','Rizwan','Khayam','ali','Jasim','Zain',\"Babar\",\"Aliraza\",\n",
    "         'Saeed','Arsalan','Sohail','Inayat'] \n",
    "\n"
   ]
  },
  {
   "cell_type": "code",
   "execution_count": 79,
   "metadata": {},
   "outputs": [
    {
     "name": "stdout",
     "output_type": "stream",
     "text": [
      "['Asif', 'Raheel', 'Farooq', 'Nadim', 'Zohaib', 'Fazal', 'Asad', 'Asim', 'Rizwan', 'Khayam', 'ali', 'Jasim', 'Zain', 'Babar', 'Aliraza', 'Saeed', 'Arsalan', 'Sohail', 'Inayat']\n"
     ]
    }
   ],
   "source": [
    "print(flist)\n"
   ]
  },
  {
   "cell_type": "code",
   "execution_count": 80,
   "metadata": {},
   "outputs": [],
   "source": [
    "closefriends = ['Naseeb','Aqeel','Nadim','Babar']"
   ]
  },
  {
   "cell_type": "code",
   "execution_count": 81,
   "metadata": {},
   "outputs": [
    {
     "data": {
      "text/plain": [
       "['Naseeb', 'Aqeel', 'Nadim', 'Babar']"
      ]
     },
     "execution_count": 81,
     "metadata": {},
     "output_type": "execute_result"
    }
   ],
   "source": [
    "closefriends"
   ]
  },
  {
   "cell_type": "code",
   "execution_count": 84,
   "metadata": {},
   "outputs": [
    {
     "name": "stdout",
     "output_type": "stream",
     "text": [
      "['Asif', 'Raheel', 'Fazal', 'Asim', 'Khayam', 'Jasim', 'Zain', 'Babar', 'Aliraza', 'Saeed', 'Arsalan', 'Sohail', 'Inayat']\n"
     ]
    }
   ],
   "source": [
    "#del friends[2]\n",
    "\n",
    "del flist[2]\n",
    "del flist[3]\n",
    "del flist[4]\n",
    "del flist[5]\n",
    "\n",
    "print(flist)"
   ]
  },
  {
   "cell_type": "code",
   "execution_count": 85,
   "metadata": {},
   "outputs": [
    {
     "name": "stdout",
     "output_type": "stream",
     "text": [
      "['Asif', 'Raheel', 'Fazal', 'Asim', 'Khayam', 'Jasim', 'Zain', 'Babar', 'Aliraza', 'Saeed', 'Arsalan', 'Sohail', 'Inayat']\n"
     ]
    }
   ],
   "source": [
    "print(flist)"
   ]
  },
  {
   "cell_type": "code",
   "execution_count": null,
   "metadata": {},
   "outputs": [],
   "source": []
  },
  {
   "cell_type": "code",
   "execution_count": null,
   "metadata": {},
   "outputs": [],
   "source": []
  },
  {
   "cell_type": "code",
   "execution_count": null,
   "metadata": {},
   "outputs": [],
   "source": []
  }
 ],
 "metadata": {
  "kernelspec": {
   "display_name": "Python 3",
   "language": "python",
   "name": "python3"
  },
  "language_info": {
   "codemirror_mode": {
    "name": "ipython",
    "version": 3
   },
   "file_extension": ".py",
   "mimetype": "text/x-python",
   "name": "python",
   "nbconvert_exporter": "python",
   "pygments_lexer": "ipython3",
   "version": "3.7.3"
  }
 },
 "nbformat": 4,
 "nbformat_minor": 2
}
